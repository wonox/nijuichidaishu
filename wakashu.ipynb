{
 "cells": [
  {
   "attachments": {},
   "cell_type": "markdown",
   "metadata": {},
   "source": [
    "# README\n",
    "『日本古典籍データセット』の「本文」\n",
    "https://researchmap.jp/blogs/blog_entries/view/75174/a64a27fb1d38ca51f0c47b9645e347f9?frame_id=653770\n",
    "のデータを使用しました。\n",
    "\n",
    "１．二十一代集データベースの基本的な構成\n",
    "以下の構成をしている。\n",
    "￥Ａ　歌集名\n",
    "￥Ｂ　序文タイトル 画像との関連で￥Ｊは必ず必要。 ￥Ｂ￥Ｃは序文がある場合の み。 仮名序や真名序の位置（巻頭か巻末かということ）は原本に従う。 序文は かな標準化を行わないので、原表記のみである。 序文中にある和歌や割注の扱 いは詞書のそれに従う。\n",
    "￥Ｃ　序文作者\n",
    "￥Ｊ　序文本文\n",
    "￥Ｍ　巻名\n",
    "￥Ｖ　部立\n",
    "￥Ｎ　歌番号 歌番号はテキストの和歌の順序に従って頭からナンバーをふり直した。 ナンバーは０から始まる５桁である。\n",
    "￥Ｋ　詞書原表記 詞書を翻字したもの。 詞書中にある和歌などの扱いについては、 翻字の項目を参照。\n",
    "￥Ｌ　詞書かな標準化表記 ￥Ｋをかな標準化したもの。\n",
    "￥Ｈ　和歌作者原表記 原本テキストにある作者名を翻字したもの。 割注などの扱いは 基本的には詞書のそれに準ずる。\n",
    "￥Ｉ　和歌作者標準化表記 『勅撰集作者索引（和泉書院索引叢書10）』に立てられた 項目で作者名をふり直したもの。 作者に二説ある場合は／（スラッシュ）で区 切る。また、同名異人の場合は、判別するための情報をつけた。\n",
    "￥Ｗ　和歌原表記 和歌を翻字したもの。 和歌は句切れごとに／で区切る。 ただし和 歌のあたまと終わりには／はつけない。 （序文、詞書、左注に含まれている和 歌の場合と異なるので注意）\n",
    "￥Ｘ　和歌かな標準化表記 ￥Ｗをかな標準化したもの。\n",
    "￥Ｙ　左注原表記 左注を翻字したもの。 翻字の仕方については基本的には詞書のそれ に準ずる。\n",
    "￥Ｚ　左注かな標準化表記 ￥Ｙをかな標準化したもの。\n",
    "￥Ｓ　集付情報等 正保版本テキストの乱丁・落丁などの情報や、原本の虫損の状態な どをコメントする。 また本文テキストの解釈上の問題や見解などもここに入れる。\n",
    "￥Ｚ　歌集終了記述・刊記、奥付等 "
   ]
  },
  {
   "cell_type": "code",
   "execution_count": 51,
   "metadata": {},
   "outputs": [
    {
     "name": "stdout",
     "output_type": "stream",
     "text": [
      "['二十一代集\\\\01古今.txt', '二十一代集\\\\02後撰.txt', '二十一代集\\\\03拾遺.txt', '二十一代集\\\\04後拾遺.txt', '二十一代集\\\\05金葉.txt', '二十一代集\\\\06詞花.txt', '二十一代集\\\\07千載.txt', '二十一代集\\\\08新古今.txt', '二十一代集\\\\09新勅撰.txt', '二十一代集\\\\10続後撰.txt', '二十一代集\\\\11続古今.txt', '二十一代集\\\\12続拾遺.txt', '二十一代集\\\\13新後撰.txt', '二十一代集\\\\14玉葉.txt', '二十一代集\\\\15続千載.txt', '二十一代集\\\\16続後拾.txt', '二十一代集\\\\17風雅.txt', '二十一代集\\\\18新千載.txt', '二十一代集\\\\19新拾遺.txt', '二十一代集\\\\20新後拾.txt', '二十一代集\\\\21新続古.txt'] ['01古今', '02後撰', '03拾遺', '04後拾遺', '05金葉', '06詞花', '07千載', '08新古今', '09新勅撰', '10続後撰', '11続古今', '12続拾遺', '13新後撰', '14玉葉', '15続千載', '16続後拾', '17風雅', '18新千載', '19新拾遺', '20新後拾', '21新続古']\n"
     ]
    }
   ],
   "source": [
    "# 指定したディレクトリ以下のテキストファイルを読み込む\n",
    "import glob\n",
    "import os\n",
    "# 指定したディレクトリ配下のファイルを探す関数\n",
    "def filesearch(dir):\n",
    "    path_list = glob.glob(dir + '\\*')       # 指定dir内の全てのファイルを取得\n",
    "  \n",
    "    # パスリストからファイル名を抽出\n",
    "    name_list = []\n",
    "    for i in path_list:\n",
    "        file = os.path.basename(i)          \n",
    "        name, ext = os.path.splitext(file)  \n",
    "        name_list.append(name)              \n",
    "    return path_list, name_list\n",
    "\n",
    "# ファイル情報を取得する関数を実行\n",
    "path_list, name_list = filesearch(r'二十一代集')\n",
    "print(path_list, name_list)"
   ]
  },
  {
   "cell_type": "code",
   "execution_count": 52,
   "metadata": {},
   "outputs": [
    {
     "name": "stdout",
     "output_type": "stream",
     "text": [
      "01古今\n",
      "02後撰\n",
      "03拾遺\n",
      "04後拾遺\n",
      "05金葉\n",
      "06詞花\n",
      "07千載\n",
      "08新古今\n",
      "09新勅撰\n",
      "10続後撰\n",
      "11続古今\n",
      "12続拾遺\n",
      "13新後撰\n",
      "14玉葉\n",
      "15続千載\n",
      "16続後拾\n",
      "17風雅\n",
      "18新千載\n",
      "19新拾遺\n",
      "20新後拾\n",
      "21新続古\n"
     ]
    }
   ],
   "source": [
    "# series[name] にファイルを読み込む\n",
    "series = {}\n",
    "for file,name in zip(path_list,name_list):\n",
    "    print(name)\n",
    "    with open(file, 'r', encoding='cp932') as f:\n",
    "       series[name] = [l.split(' ') for l in f.read().splitlines()]"
   ]
  },
  {
   "cell_type": "code",
   "execution_count": 54,
   "metadata": {},
   "outputs": [],
   "source": [
    "#print(series['20新後拾'])\n",
    "#print(series.keys())\n",
    "# ファイルを書き出してみる\n",
    "# for mykey in series.keys():\n",
    "#     print(series[mykey])"
   ]
  },
  {
   "cell_type": "code",
   "execution_count": 55,
   "metadata": {},
   "outputs": [
    {
     "data": {
      "text/plain": [
       "'\\n￥Ｗ袖ひちて／むすひし水の／こほれるを／春たつけふの／風やとくらん\\n￥Ｘそてひちて／むすひしみつの／こほれるを／はるたつけふの／かせやとくらむ\\n￥Ｎ０１１６１\\n￥Ｌたいしらす\\n￥Ｈ三恒\\n￥Ｉ躬恒\\n￥Ｗてるつきを／ゆみはりとしも／いふことは／山の葉さして／いれはなりけり\\n￥Ｘてるつきを／ゆみはりとしも／いふことは／やまのはさして／いれはなりけり\\n￥Ｓナシ／ナシ\\n'"
      ]
     },
     "execution_count": 55,
     "metadata": {},
     "output_type": "execute_result"
    }
   ],
   "source": [
    "import json\n",
    "import re\n",
    "\n",
    "def listgenerate(data):\n",
    "    tag = ['￥Ａ','￥Ｈ','￥Ｉ','￥Ｋ','￥Ｌ','￥Ｓ','￥Ｗ','￥Ｘ','￥Ｙ','￥Ｚ']\n",
    "    n = ''\n",
    "    xx = dict()\n",
    "    d = {}\n",
    "    matrix = []\n",
    "    p = re.compile('￥.')\n",
    "    # print(data)\n",
    "    \n",
    "    for x in data:\n",
    "        if x[0].startswith('￥Ａ'):\n",
    "             a = x[0]\n",
    "        elif x[0].startswith('￥Ｎ'):\n",
    "            n = a + x[0]\n",
    "            # print(n)\n",
    "        elif re.compile('^￥Ｈ').search(x[0]):\n",
    "            xx['￥Ｈ']= p.sub('',x[0])\n",
    "        elif re.compile('^￥Ｉ').search(x[0]):\n",
    "            xx['￥Ｉ']= p.sub('',x[0])\n",
    "        elif re.compile('^￥Ｋ').search(x[0]):\n",
    "            xx['￥Ｋ']= p.sub('',x[0])\n",
    "        elif re.compile('^￥Ｌ').search(x[0]):\n",
    "            xx['￥Ｌ']= p.sub('',x[0])\n",
    "        elif re.compile('^￥Ｗ').search(x[0]):\n",
    "            xx['￥Ｗ']= p.sub('',x[0])\n",
    "        elif re.compile('^￥Ｘ').search(x[0]):\n",
    "            xx['￥Ｘ']= p.sub('',x[0])\n",
    "        elif re.compile('^￥Ｙ').search(x[0]):\n",
    "            xx['￥Ｙ']= p.sub('',x[0])\n",
    "        elif re.compile('^￥Ｓ').search(x[0]):\n",
    "            xx['￥Ｓ']= p.sub('',x[0])\n",
    "            matrix.append(xx)\n",
    "            d[n] = matrix\n",
    "            matrix = []\n",
    "            xx = {}\n",
    "    # print(d)\n",
    "    return d\n",
    "#  print(json.dumps(d, indent=2, ensure_ascii=False))\n",
    "# print(json.dumps(d['￥Ｎ０１１５７\n",
    "# '], indent=2, ensure_ascii=False))\n",
    "# len(d)\n",
    "\n",
    "'''\n",
    "￥Ｗ袖ひちて／むすひし水の／こほれるを／春たつけふの／風やとくらん\n",
    "￥Ｘそてひちて／むすひしみつの／こほれるを／はるたつけふの／かせやとくらむ\n",
    "￥Ｎ０１１６１\n",
    "￥Ｌたいしらす\n",
    "￥Ｈ三恒\n",
    "￥Ｉ躬恒\n",
    "￥Ｗてるつきを／ゆみはりとしも／いふことは／山の葉さして／いれはなりけり\n",
    "￥Ｘてるつきを／ゆみはりとしも／いふことは／やまのはさして／いれはなりけり\n",
    "￥Ｓナシ／ナシ\n",
    "'''"
   ]
  },
  {
   "cell_type": "code",
   "execution_count": null,
   "metadata": {},
   "outputs": [],
   "source": [
    "no20 = listgenerate(series['01古今']) # '20新後拾'\n",
    "print(json.dumps(no20, indent=2, ensure_ascii=False))"
   ]
  },
  {
   "cell_type": "code",
   "execution_count": 56,
   "metadata": {},
   "outputs": [],
   "source": [
    "# 全ファイルを辞書で連結して、jsonファイルに出力する\n",
    "import json\n",
    "all = {}\n",
    "for mykey in series.keys():\n",
    "    all.update(listgenerate(series[mykey])) # '20新後拾'\n",
    "path1 = 'out/test1.json'\n",
    "json_file1 = open(path1, mode=\"w\")\n",
    "json.dump(all, json_file1, indent=2, ensure_ascii=False)\n",
    "json_file1.close()"
   ]
  },
  {
   "cell_type": "code",
   "execution_count": 57,
   "metadata": {},
   "outputs": [
    {
     "data": {
      "text/plain": [
       "{'￥Ａ新勅撰和歌集￥Ｎ０００７０': [{'￥Ｋ': '清輔朝臣家に歌合し侍ける、花歌',\n",
       "   '￥Ｌ': 'きよすけのあそんのいへにうたあはせしはへりける、はなのうた',\n",
       "   '￥Ｈ': '俊恵法師',\n",
       "   '￥Ｉ': '俊恵',\n",
       "   '￥Ｗ': 'みよしのゝ／花のさかりと／知なから／猶白雲と／あやまたれつゝ',\n",
       "   '￥Ｘ': 'みよしのの／はなのさかりと／しりなから／なほしらくもと／あやまたれつつ',\n",
       "   '￥Ｓ': '／'}]}"
      ]
     },
     "execution_count": 57,
     "metadata": {},
     "output_type": "execute_result"
    }
   ],
   "source": [
    "# 階層化した辞書の値を、正規表現で検索する\n",
    "import re\n",
    "def search_nested_dict(dictionary, pattern):\n",
    "    \"\"\"\n",
    "    Recursively search for a pattern in a nested dictionary and return a new dictionary\n",
    "    with only the matching key-value pairs.\n",
    "    \"\"\"\n",
    "    result = {}\n",
    "    for key, value in dictionary.items():\n",
    "        if isinstance(value, dict):\n",
    "            nested_result = search_nested_dict(value, pattern)\n",
    "            if nested_result:\n",
    "                result[key] = nested_result\n",
    "        else:\n",
    "            if re.search(pattern, str(value)):\n",
    "                result[key] = value\n",
    "    return result\n",
    "  \n",
    "example_dict = {\n",
    "    'key1': 'value1',\n",
    "    'key2': {\n",
    "        'subkey1': 'subvalue1',\n",
    "        'subkey2': 'subvalue2 with regex pattern',\n",
    "        'subkey3': {\n",
    "            'subsubkey1': 'subsubvalue1'}\n",
    "    }}\n",
    "\n",
    "search_nested_dict(all, '.*はなのさかり.*しりなから')\n"
   ]
  }
 ],
 "metadata": {
  "kernelspec": {
   "display_name": "base",
   "language": "python",
   "name": "python3"
  },
  "language_info": {
   "codemirror_mode": {
    "name": "ipython",
    "version": 3
   },
   "file_extension": ".py",
   "mimetype": "text/x-python",
   "name": "python",
   "nbconvert_exporter": "python",
   "pygments_lexer": "ipython3",
   "version": "3.9.7"
  },
  "orig_nbformat": 4
 },
 "nbformat": 4,
 "nbformat_minor": 2
}
